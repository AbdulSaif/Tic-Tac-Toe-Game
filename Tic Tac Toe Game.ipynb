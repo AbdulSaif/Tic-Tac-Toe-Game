{
 "cells": [
  {
   "cell_type": "markdown",
   "metadata": {},
   "source": [
    "### Design requirements:\n",
    "- Create board\n",
    "- Display board\n",
    "- Play game\n",
    "- Handling players turn\n",
    "- Check for winning condition:\n",
    "     - check rows\n",
    "     - check columns\n",
    "     - check diagonals\n",
    "- Check tie\n",
    "- Flip player"
   ]
  },
  {
   "cell_type": "code",
   "execution_count": 26,
   "metadata": {},
   "outputs": [],
   "source": [
    "#---------Global variables------------#\n",
    "\n",
    "# creating the board with a list\n",
    "board = ['-','-','-',\n",
    "         '-','-','-',\n",
    "         '-','-','-']\n",
    "# game status - game on or its over\n",
    "game_still_on = True\n",
    "# winner or tie\n",
    "winner = None\n",
    "# current player\n",
    "current_player = 'X'"
   ]
  },
  {
   "cell_type": "code",
   "execution_count": 27,
   "metadata": {},
   "outputs": [],
   "source": [
    "# creating a function that can display the board\n",
    "def display_board(board):\n",
    "    print(board[0]+' | '+board[1]+' | '+board[2])\n",
    "    print(board[3]+' | '+board[8]+' | '+board[5])\n",
    "    print(board[6]+' | '+board[7]+' | '+board[8])"
   ]
  },
  {
   "cell_type": "code",
   "execution_count": 28,
   "metadata": {},
   "outputs": [],
   "source": [
    "# creating handle_turn function and displaying player inputs in the board\n",
    "def handle_turn(board,current_player):\n",
    "    position = input(\"Chose a position from 1-9: \")\n",
    "    position = int(position)-1\n",
    "    board[position] = current_player\n",
    "    display_board(board)"
   ]
  },
  {
   "cell_type": "code",
   "execution_count": 29,
   "metadata": {},
   "outputs": [],
   "source": [
    "# game over checker\n",
    "def check_gameover():\n",
    "    check_win()\n",
    "    check_tie()\n",
    "    \n",
    "def check_win():\n",
    "    # check rows\n",
    "    # check columns\n",
    "    # check diagnals\n",
    "    return\n",
    "\n",
    "def check_tie():\n",
    "    # check rows\n",
    "    # check columns\n",
    "    # check diagnals\n",
    "    return"
   ]
  },
  {
   "cell_type": "code",
   "execution_count": 30,
   "metadata": {},
   "outputs": [],
   "source": [
    "# change the player from X to O\n",
    "def flip_turn():\n",
    "    return"
   ]
  },
  {
   "cell_type": "code",
   "execution_count": 33,
   "metadata": {},
   "outputs": [],
   "source": [
    "# defining a function that compile everything together and start the game\n",
    "def play_game():\n",
    "    # calling the the required functions to start the game\n",
    "    display_board(board)\n",
    "    # creating the game logic\n",
    "    while game_still_on:\n",
    "        handle_turn(board,current_player)\n",
    "        check_gameover()\n",
    "        flip_turn()"
   ]
  },
  {
   "cell_type": "code",
   "execution_count": null,
   "metadata": {},
   "outputs": [],
   "source": [
    "# starting the game\n",
    "play_game()"
   ]
  },
  {
   "cell_type": "code",
   "execution_count": null,
   "metadata": {},
   "outputs": [],
   "source": []
  }
 ],
 "metadata": {
  "kernelspec": {
   "display_name": "Python 3",
   "language": "python",
   "name": "python3"
  },
  "language_info": {
   "codemirror_mode": {
    "name": "ipython",
    "version": 3
   },
   "file_extension": ".py",
   "mimetype": "text/x-python",
   "name": "python",
   "nbconvert_exporter": "python",
   "pygments_lexer": "ipython3",
   "version": "3.7.1"
  }
 },
 "nbformat": 4,
 "nbformat_minor": 2
}
