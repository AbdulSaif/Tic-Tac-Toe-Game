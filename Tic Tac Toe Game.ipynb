{
 "cells": [
  {
   "cell_type": "markdown",
   "metadata": {},
   "source": [
    "### Design requirements:\n",
    "- Create board\n",
    "- Display board\n",
    "- Play game\n",
    "- Handling players turn\n",
    "- Check for winning condition:\n",
    "     - check rows\n",
    "     - check columns\n",
    "     - check diagonals\n",
    "- Check tie\n",
    "- Flip player"
   ]
  },
  {
   "cell_type": "code",
   "execution_count": 1,
   "metadata": {},
   "outputs": [],
   "source": [
    "# creating the board with a list\n",
    "board = ['-','-','-',\n",
    "         '-','-','-',\n",
    "         '-','-','-']"
   ]
  },
  {
   "cell_type": "code",
   "execution_count": 2,
   "metadata": {},
   "outputs": [],
   "source": [
    "# creating a function that can display the board\n",
    "def display_board(board):\n",
    "    print(board[0]+' | '+board[1]+' | '+board[2])\n",
    "    print(board[3]+' | '+board[8]+' | '+board[5])\n",
    "    print(board[6]+' | '+board[7]+' | '+board[8])"
   ]
  },
  {
   "cell_type": "code",
   "execution_count": 12,
   "metadata": {},
   "outputs": [],
   "source": [
    "# defining a function that compile everything together and start the game\n",
    "def play_game():\n",
    "    # calling the the required functions to start the game\n",
    "    display_board(board)\n",
    "    handle_turn()"
   ]
  },
  {
   "cell_type": "code",
   "execution_count": 13,
   "metadata": {},
   "outputs": [],
   "source": [
    "def handle_turn():\n",
    "    position = input(\"Chose a position from 1-9: \")\n",
    "    position = int(position)-1\n",
    "    board"
   ]
  },
  {
   "cell_type": "code",
   "execution_count": 14,
   "metadata": {},
   "outputs": [
    {
     "name": "stdout",
     "output_type": "stream",
     "text": [
      "- | - | -\n",
      "- | - | -\n",
      "- | - | -\n",
      "Chose a position from 1-9: 3\n"
     ]
    }
   ],
   "source": [
    "# starting the game\n",
    "play_game()"
   ]
  },
  {
   "cell_type": "code",
   "execution_count": null,
   "metadata": {},
   "outputs": [],
   "source": []
  }
 ],
 "metadata": {
  "kernelspec": {
   "display_name": "Python 3",
   "language": "python",
   "name": "python3"
  },
  "language_info": {
   "codemirror_mode": {
    "name": "ipython",
    "version": 3
   },
   "file_extension": ".py",
   "mimetype": "text/x-python",
   "name": "python",
   "nbconvert_exporter": "python",
   "pygments_lexer": "ipython3",
   "version": "3.7.1"
  }
 },
 "nbformat": 4,
 "nbformat_minor": 2
}
