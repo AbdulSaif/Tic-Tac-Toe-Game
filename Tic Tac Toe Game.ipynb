{
 "cells": [
  {
   "cell_type": "markdown",
   "metadata": {},
   "source": [
    "### Design requirements:\n",
    "- Create board\n",
    "- Display board\n",
    "- Play game\n",
    "- Handling players turn\n",
    "- Check for winning condition:\n",
    "     - check rows\n",
    "     - check columns\n",
    "     - check diagonals\n",
    "- Check tie\n",
    "- Flip player"
   ]
  },
  {
   "cell_type": "code",
   "execution_count": 1,
   "metadata": {},
   "outputs": [],
   "source": [
    "# creating the board with a list\n",
    "board = ['-','-','-',\n",
    "         '-','-','-',\n",
    "         '-','-','-']"
   ]
  },
  {
   "cell_type": "code",
   "execution_count": 2,
   "metadata": {},
   "outputs": [],
   "source": [
    "# creating a function that can display the board\n",
    "def display_board(board):\n",
    "    print(board[0]+' | '+board[1]+' | '+board[2])\n",
    "    print(board[3]+' | '+board[8]+' | '+board[5])\n",
    "    print(board[6]+' | '+board[7]+' | '+board[8])"
   ]
  },
  {
   "cell_type": "code",
   "execution_count": 18,
   "metadata": {},
   "outputs": [],
   "source": [
    "# creating handle_turn function and displaying player inputs in the board\n",
    "def handle_turn(board):\n",
    "    position = input(\"Chose a position from 1-9: \")\n",
    "    position = int(position)-1\n",
    "    board[position] = 'X'\n",
    "    display_board(board)"
   ]
  },
  {
   "cell_type": "code",
   "execution_count": 24,
   "metadata": {},
   "outputs": [],
   "source": [
    "# game over checker\n",
    "def check_gameover():\n",
    "    check_win()\n",
    "    check_tie()\n",
    "    \n",
    "def check_win():\n",
    "    # check rows\n",
    "    # check columns\n",
    "    # check diagnals\n",
    "    return\n",
    "\n",
    "def check_tie():\n",
    "    # check rows\n",
    "    # check columns\n",
    "    # check diagnals\n",
    "    return"
   ]
  },
  {
   "cell_type": "code",
   "execution_count": null,
   "metadata": {},
   "outputs": [],
   "source": [
    "# change the player from X to O\n",
    "def flip_turn():\n",
    "    return"
   ]
  },
  {
   "cell_type": "code",
   "execution_count": 25,
   "metadata": {},
   "outputs": [],
   "source": [
    "# defining a function that compile everything together and start the game\n",
    "def play_game():\n",
    "    # calling the the required functions to start the game\n",
    "    display_board(board)\n",
    "    # creating the game logic\n",
    "    while game_still_on:\n",
    "        handle_turn(board,current_player)\n",
    "        check_gameover()\n",
    "        flip_player()"
   ]
  },
  {
   "cell_type": "code",
   "execution_count": 22,
   "metadata": {},
   "outputs": [
    {
     "name": "stdout",
     "output_type": "stream",
     "text": [
      "- | X | -\n",
      "- | - | -\n",
      "- | - | -\n"
     ]
    },
    {
     "ename": "NameError",
     "evalue": "name 'game_still_on' is not defined",
     "output_type": "error",
     "traceback": [
      "\u001b[0;31m---------------------------------------------------------------------------\u001b[0m",
      "\u001b[0;31mNameError\u001b[0m                                 Traceback (most recent call last)",
      "\u001b[0;32m<ipython-input-22-ee9ad1e65cc5>\u001b[0m in \u001b[0;36m<module>\u001b[0;34m\u001b[0m\n\u001b[1;32m      1\u001b[0m \u001b[0;31m# starting the game\u001b[0m\u001b[0;34m\u001b[0m\u001b[0;34m\u001b[0m\u001b[0;34m\u001b[0m\u001b[0m\n\u001b[0;32m----> 2\u001b[0;31m \u001b[0mplay_game\u001b[0m\u001b[0;34m(\u001b[0m\u001b[0;34m)\u001b[0m\u001b[0;34m\u001b[0m\u001b[0;34m\u001b[0m\u001b[0m\n\u001b[0m",
      "\u001b[0;32m<ipython-input-21-a85b0c70527c>\u001b[0m in \u001b[0;36mplay_game\u001b[0;34m()\u001b[0m\n\u001b[1;32m      4\u001b[0m     \u001b[0mdisplay_board\u001b[0m\u001b[0;34m(\u001b[0m\u001b[0mboard\u001b[0m\u001b[0;34m)\u001b[0m\u001b[0;34m\u001b[0m\u001b[0;34m\u001b[0m\u001b[0m\n\u001b[1;32m      5\u001b[0m     \u001b[0;31m# creating the game logic\u001b[0m\u001b[0;34m\u001b[0m\u001b[0;34m\u001b[0m\u001b[0;34m\u001b[0m\u001b[0m\n\u001b[0;32m----> 6\u001b[0;31m     \u001b[0;32mwhile\u001b[0m \u001b[0mgame_still_on\u001b[0m\u001b[0;34m:\u001b[0m\u001b[0;34m\u001b[0m\u001b[0;34m\u001b[0m\u001b[0m\n\u001b[0m\u001b[1;32m      7\u001b[0m         \u001b[0mhandle_turn\u001b[0m\u001b[0;34m(\u001b[0m\u001b[0mboard\u001b[0m\u001b[0;34m,\u001b[0m\u001b[0mcurrent_player\u001b[0m\u001b[0;34m)\u001b[0m\u001b[0;34m\u001b[0m\u001b[0;34m\u001b[0m\u001b[0m\n\u001b[1;32m      8\u001b[0m         \u001b[0mcheck_gameover\u001b[0m\u001b[0;34m(\u001b[0m\u001b[0;34m)\u001b[0m\u001b[0;34m\u001b[0m\u001b[0;34m\u001b[0m\u001b[0m\n",
      "\u001b[0;31mNameError\u001b[0m: name 'game_still_on' is not defined"
     ]
    }
   ],
   "source": [
    "# starting the game\n",
    "play_game()"
   ]
  },
  {
   "cell_type": "code",
   "execution_count": null,
   "metadata": {},
   "outputs": [],
   "source": []
  }
 ],
 "metadata": {
  "kernelspec": {
   "display_name": "Python 3",
   "language": "python",
   "name": "python3"
  },
  "language_info": {
   "codemirror_mode": {
    "name": "ipython",
    "version": 3
   },
   "file_extension": ".py",
   "mimetype": "text/x-python",
   "name": "python",
   "nbconvert_exporter": "python",
   "pygments_lexer": "ipython3",
   "version": "3.7.1"
  }
 },
 "nbformat": 4,
 "nbformat_minor": 2
}
