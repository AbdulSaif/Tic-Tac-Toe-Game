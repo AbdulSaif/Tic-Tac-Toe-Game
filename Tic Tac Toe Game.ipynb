{
 "cells": [
  {
   "cell_type": "markdown",
   "metadata": {},
   "source": [
    "### Design requirements:\n",
    "- Create board\n",
    "- Display board\n",
    "- Play game\n",
    "- Handling players turn\n",
    "- Check for winning condition:\n",
    "     - check rows\n",
    "     - check columns\n",
    "     - check diagonals\n",
    "- Check tie\n",
    "- Flip player"
   ]
  },
  {
   "cell_type": "code",
   "execution_count": 12,
   "metadata": {},
   "outputs": [],
   "source": [
    "#---------Global variables------------#\n",
    "\n",
    "# creating the board with a list\n",
    "board = ['-','-','-',\n",
    "         '-','-','-',\n",
    "         '-','-','-']\n",
    "# game status - game on or its over\n",
    "game_still_on = True\n",
    "# winner or tie\n",
    "winner = None\n",
    "# current player\n",
    "current_player = 'X'"
   ]
  },
  {
   "cell_type": "code",
   "execution_count": 13,
   "metadata": {},
   "outputs": [],
   "source": [
    "# creating a function that can display the board\n",
    "def display_board(board):\n",
    "    print(board[0]+' | '+board[1]+' | '+board[2])\n",
    "    print(board[3]+' | '+board[8]+' | '+board[5])\n",
    "    print(board[6]+' | '+board[7]+' | '+board[8])"
   ]
  },
  {
   "cell_type": "code",
   "execution_count": 14,
   "metadata": {},
   "outputs": [],
   "source": [
    "# creating handle_turn function and displaying player inputs in the board\n",
    "def handle_turn(board,current_player):\n",
    "    position = input(\"Chose a position from 1-9: \")\n",
    "    position = int(position)-1\n",
    "    board[position] = current_player\n",
    "    display_board(board)"
   ]
  },
  {
   "cell_type": "code",
   "execution_count": 15,
   "metadata": {},
   "outputs": [],
   "source": [
    "# game over checker\n",
    "def check_gameover():\n",
    "    check_win()\n",
    "    check_tie()\n",
    "    \n",
    "def check_win():\n",
    "    # setup global variable\n",
    "    global winner\n",
    "    \n",
    "    # check rows\n",
    "    row_winner = check_rows()\n",
    "    # check columns\n",
    "    columns_winner = check_columns()\n",
    "    # check diagnals\n",
    "    diagnals_winner = check_diagnals()\n",
    "    \n",
    "    # update global winner variable with actual winner\n",
    "    if row_winner:\n",
    "        winner = row_winner\n",
    "    elif columns_winner:\n",
    "        winner = columns_winner\n",
    "    elif diagnals_winner:\n",
    "        winner = diagnals_winner\n",
    "    else:\n",
    "        winner = None\n",
    "        \n",
    "    return winner\n",
    "\n",
    "def check_rows():\n",
    "    # setup global variable\n",
    "    global game_still_on\n",
    "    # check if any of the rows have same value\n",
    "    row_1 = board[0] == board[1] == board[2] != '-'\n",
    "    row_2 = board[3] == board[4] == board[5] != '-'\n",
    "    row_3 = board[6] == board[7] == board[8] != '-'\n",
    "    # if any of the rows has same value end game\n",
    "    if row_1 or row_2 or row_3:\n",
    "        game_still_on = False\n",
    "    # retruns the winner of the game\n",
    "    if row_1:\n",
    "        return board[0]\n",
    "    elif row_2:\n",
    "        return board[3]\n",
    "    elif row_3:\n",
    "        return board[6]\n",
    "    return\n",
    "\n",
    "def check_columns():\n",
    "    # setup global variable\n",
    "    global game_still_on\n",
    "    # check if any of the rows have same value\n",
    "    column_1 = board[0] == board[3] == board[6] != '-'\n",
    "    column_2 = board[1] == board[4] == board[7] != '-'\n",
    "    column_3 = board[2] == board[5] == board[8] != '-'\n",
    "    # if any of the columns has same value end game\n",
    "    if column_1 or column_2 or column_3:\n",
    "        game_still_on = False\n",
    "    # retruns the winner of the game\n",
    "    if column_1:\n",
    "        return board[0]\n",
    "    elif column_2:\n",
    "        return board[1]\n",
    "    elif column_3:\n",
    "        return board[2]\n",
    "    return\n",
    "\n",
    "def check_diagnals():\n",
    "    # setup global variable\n",
    "    global game_still_on\n",
    "    # check if any of the rows have same value\n",
    "    diagonal_1 = board[0] == board[4] == board[8] != '-'\n",
    "    diagonal_2 = board[2] == board[4] == board[6] != '-'\n",
    "    # if any of the columns has same value end game\n",
    "    if diagonal_1 or diagonal_2:\n",
    "        game_still_on = False\n",
    "    # retruns the winner of the game\n",
    "    if diagonal_1:\n",
    "        return board[0]\n",
    "    elif diagonal_2:\n",
    "        return board[2]\n",
    "    return\n",
    "\n",
    "def check_tie():\n",
    "    return"
   ]
  },
  {
   "cell_type": "code",
   "execution_count": 16,
   "metadata": {},
   "outputs": [],
   "source": [
    "# change the player from X to O\n",
    "def flip_turn():\n",
    "    return"
   ]
  },
  {
   "cell_type": "code",
   "execution_count": 17,
   "metadata": {},
   "outputs": [],
   "source": [
    "# defining a function that compile everything together and start the game\n",
    "def play_game():\n",
    "    # calling the the required functions to start the game\n",
    "    display_board(board)\n",
    "    # creating the game logic - ongoing game\n",
    "    while game_still_on:\n",
    "        handle_turn(board,current_player)\n",
    "        check_gameover()\n",
    "        flip_turn()\n",
    "    # The game ends here\n",
    "    if winner =='X' or winner == 'O':\n",
    "        print(winner+\" won, congrats :)\")\n",
    "    elif winner == None:\n",
    "        print(\"No winner its tie!!\")"
   ]
  },
  {
   "cell_type": "code",
   "execution_count": 18,
   "metadata": {},
   "outputs": [
    {
     "name": "stdout",
     "output_type": "stream",
     "text": [
      "- | - | -\n",
      "- | - | -\n",
      "- | - | -\n",
      "Chose a position from 1-9: 1\n",
      "X | - | -\n",
      "- | - | -\n",
      "- | - | -\n",
      "Chose a position from 1-9: 2\n",
      "X | X | -\n",
      "- | - | -\n",
      "- | - | -\n",
      "Chose a position from 1-9: 3\n",
      "X | X | X\n",
      "- | - | -\n",
      "- | - | -\n",
      "X won, congrats :)\n"
     ]
    }
   ],
   "source": [
    "# starting the game\n",
    "play_game()"
   ]
  }
 ],
 "metadata": {
  "kernelspec": {
   "display_name": "Python 3",
   "language": "python",
   "name": "python3"
  },
  "language_info": {
   "codemirror_mode": {
    "name": "ipython",
    "version": 3
   },
   "file_extension": ".py",
   "mimetype": "text/x-python",
   "name": "python",
   "nbconvert_exporter": "python",
   "pygments_lexer": "ipython3",
   "version": "3.7.1"
  }
 },
 "nbformat": 4,
 "nbformat_minor": 2
}
